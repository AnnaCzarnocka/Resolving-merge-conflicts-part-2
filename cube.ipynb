{
 "cells": [
  {
   "cell_type": "markdown",
   "id": "ab324497-87ef-4d8e-8af5-7e93e22de3dd",
   "metadata": {},
   "source": [
    "## Calculate a cube of a number\n",
    "\n",
    "Function named `cube` that calculates a cube of a number:"
   ]
  },
  {
   "cell_type": "code",
   "execution_count": 2,
   "id": "edefa052-6e8c-48cd-9367-ab89cde8c6e6",
   "metadata": {},
   "outputs": [],
   "source": [
    "def cube(x):\n",
    "    return x**3\n"
   ]
  },
  {
   "cell_type": "code",
   "execution_count": 3,
   "id": "bb82b9b2-06ca-4d5c-88de-bbab1a249244",
   "metadata": {},
   "outputs": [
    {
     "data": {
      "text/plain": [
       "8"
      ]
     },
     "execution_count": 3,
     "metadata": {},
     "output_type": "execute_result"
    }
   ],
   "source": [
    "cube(2)"
   ]
  }
 ],
 "metadata": {
  "kernelspec": {
   "display_name": "Python 3",
   "language": "python",
   "name": "python3"
  },
  "language_info": {
   "codemirror_mode": {
    "name": "ipython",
    "version": 3
   },
   "file_extension": ".py",
   "mimetype": "text/x-python",
   "name": "python",
   "nbconvert_exporter": "python",
   "pygments_lexer": "ipython3",
   "version": "3.9.6"
  }
 },
 "nbformat": 4,
 "nbformat_minor": 5
}
